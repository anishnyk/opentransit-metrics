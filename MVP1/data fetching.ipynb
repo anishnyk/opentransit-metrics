{
 "cells": [
  {
   "cell_type": "code",
   "execution_count": 120,
   "metadata": {},
   "outputs": [],
   "source": [
    "import requests\n",
    "import json\n",
    "import math"
   ]
  },
  {
   "cell_type": "markdown",
   "metadata": {},
   "source": [
    "## Querying the API for bus locations and stops"
   ]
  },
  {
   "cell_type": "code",
   "execution_count": 7,
   "metadata": {},
   "outputs": [],
   "source": [
    "start_time = 1539490442179\n",
    "end_time   = 1539490499179\n",
    "routes = [\"14\",\"14R\",\"49\"]"
   ]
  },
  {
   "cell_type": "code",
   "execution_count": 14,
   "metadata": {},
   "outputs": [],
   "source": [
    "def list_string(arr):\n",
    "    return f\"{arr}\".replace(\"'\",'\"')"
   ]
  },
  {
   "cell_type": "code",
   "execution_count": 24,
   "metadata": {},
   "outputs": [],
   "source": [
    "query = f\"\"\"{{\n",
    "  trynState(agency: \"muni\", startTime: \"{start_time}\", endTime: \"{end_time}\", routes: {list_string(routes)}) {{\n",
    "    agency\n",
    "    startTime\n",
    "    routes {{\n",
    "      rid\n",
    "      stops {{\n",
    "        sid\n",
    "        name\n",
    "        lat\n",
    "        lon\n",
    "      }}\n",
    "      routeStates {{\n",
    "        vtime\n",
    "        vehicles {{\n",
    "          vid\n",
    "          lat\n",
    "          lon\n",
    "          heading\n",
    "        }}\n",
    "      }}\n",
    "    }}\n",
    "  }}\n",
    "}}\n",
    "\"\"\" # Braces need to be doubled for f-string"
   ]
  },
  {
   "cell_type": "code",
   "execution_count": 27,
   "metadata": {},
   "outputs": [],
   "source": [
    "query_url = \"https://06o8rkohub.execute-api.us-west-2.amazonaws.com/dev/graphql?query=\"+query\n",
    "r = requests.get(query_url)"
   ]
  },
  {
   "cell_type": "markdown",
   "metadata": {},
   "source": [
    "### Parsing the returned data"
   ]
  },
  {
   "cell_type": "code",
   "execution_count": 44,
   "metadata": {},
   "outputs": [],
   "source": [
    "data = json.loads(r.text)\n",
    "route_list = data['data']['trynState']['routes']"
   ]
  },
  {
   "cell_type": "code",
   "execution_count": 57,
   "metadata": {},
   "outputs": [
    {
     "data": {
      "text/plain": [
       "{'heading': 165, 'lat': 37.755463, 'lon': -122.418823, 'vid': '7257'}"
      ]
     },
     "execution_count": 57,
     "metadata": {},
     "output_type": "execute_result"
    }
   ],
   "source": [
    "route_list[0]['routeStates'][1]['vehicles'][4]"
   ]
  },
  {
   "cell_type": "code",
   "execution_count": 61,
   "metadata": {},
   "outputs": [
    {
     "data": {
      "text/plain": [
       "{'lat': 37.78075,\n",
       " 'lon': -122.4090999,\n",
       " 'name': 'Mission St & 6th St',\n",
       " 'sid': '5538'}"
      ]
     },
     "execution_count": 61,
     "metadata": {},
     "output_type": "execute_result"
    }
   ],
   "source": [
    "route_list[0]['stops'][8]"
   ]
  },
  {
   "cell_type": "markdown",
   "metadata": {},
   "source": [
    "## Function to find the closest stop to a bus"
   ]
  },
  {
   "cell_type": "code",
   "execution_count": 80,
   "metadata": {},
   "outputs": [],
   "source": [
    "def get_dist(loc1,loc2,lat_weight=1,lon_weight=1):\n",
    "    return abs(loc1['lat']-loc2['lat'])/lat_weight + abs(loc1['lon']-loc2['lon'])/lon_weight"
   ]
  },
  {
   "cell_type": "code",
   "execution_count": 81,
   "metadata": {},
   "outputs": [],
   "source": [
    "def get_closest(loc,stop_list,lat_weight=1,lon_weight=1):\n",
    "    # Running minimum distance\n",
    "    running_min=500 #Dumb high number\n",
    "\n",
    "    for stop in stop_list:\n",
    "        current_min=get_dist(loc,stop,lat_weight,lon_weight)\n",
    "        if current_min < running_min:\n",
    "            running_min = current_min\n",
    "            running_best_stop = stop\n",
    "            \n",
    "    return running_best_stop"
   ]
  },
  {
   "cell_type": "code",
   "execution_count": 86,
   "metadata": {},
   "outputs": [],
   "source": [
    "lat_scale = math.cos(37.7*math.pi/180)"
   ]
  },
  {
   "cell_type": "code",
   "execution_count": 92,
   "metadata": {},
   "outputs": [
    {
     "data": {
      "text/plain": [
       "{'lat': 37.72635,\n",
       " 'lon': -122.4336499,\n",
       " 'name': 'Mission St & Francis St',\n",
       " 'sid': '5590'}"
      ]
     },
     "execution_count": 92,
     "metadata": {},
     "output_type": "execute_result"
    }
   ],
   "source": [
    "bus_1 = route_list[0]['routeStates'][1]['vehicles'][2]\n",
    "stops_14 = route_list[0]['stops']\n",
    "\n",
    "get_closest(bus_1, stops_14, lat_scale)"
   ]
  }
 ],
 "metadata": {
  "kernelspec": {
   "display_name": "Python [conda env:PythonData]",
   "language": "python",
   "name": "conda-env-PythonData-py"
  },
  "language_info": {
   "codemirror_mode": {
    "name": "ipython",
    "version": 3
   },
   "file_extension": ".py",
   "mimetype": "text/x-python",
   "name": "python",
   "nbconvert_exporter": "python",
   "pygments_lexer": "ipython3",
   "version": "3.6.3"
  }
 },
 "nbformat": 4,
 "nbformat_minor": 2
}
